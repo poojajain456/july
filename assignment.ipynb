{
 "cells": [
  {
   "cell_type": "code",
   "execution_count": 4,
   "id": "427b7d71",
   "metadata": {},
   "outputs": [
    {
     "name": "stdout",
     "output_type": "stream",
     "text": [
      "7\n",
      "14\n",
      "21\n",
      "28\n",
      "35\n",
      "42\n",
      "49\n",
      "56\n",
      "63\n",
      "70\n",
      "77\n",
      "84\n",
      "91\n",
      "98\n"
     ]
    }
   ],
   "source": [
    "for i in range(1,100):\n",
    "    if(i%7==0):\n",
    "        print(i)"
   ]
  },
  {
   "cell_type": "code",
   "execution_count": 5,
   "id": "1b8b6c2c",
   "metadata": {},
   "outputs": [
    {
     "name": "stdout",
     "output_type": "stream",
     "text": [
      "63\n"
     ]
    }
   ],
   "source": [
    "for i in range(1,100):\n",
    "    if(i%7==0 and i%9==0):\n",
    "        print(i)"
   ]
  },
  {
   "cell_type": "raw",
   "id": "b30b6579",
   "metadata": {},
   "source": [
    "for i in range(1,100):\n",
    "    if(i%2==0):\n",
    "        print(i)"
   ]
  },
  {
   "cell_type": "code",
   "execution_count": 8,
   "id": "f5f008b6",
   "metadata": {},
   "outputs": [
    {
     "name": "stdout",
     "output_type": "stream",
     "text": [
      "1 e\n",
      "3 e\n",
      "5  \n",
      "7 o\n",
      "9 t\n",
      "11 a\n",
      "13 e\n"
     ]
    }
   ],
   "source": [
    "str=\"regex software\"\n",
    "for index in range(0,len(str)):\n",
    "    if(index%2!=0):\n",
    "        print(index,str[index])"
   ]
  },
  {
   "cell_type": "code",
   "execution_count": 22,
   "id": "2cf98812",
   "metadata": {},
   "outputs": [
    {
     "name": "stdout",
     "output_type": "stream",
     "text": [
      "the total number of consonent is 2\n"
     ]
    }
   ],
   "source": [
    "str=\"pooja\"\n",
    "ccount=0\n",
    "string=str.lower()\n",
    "for i in range(0,len(string)):\n",
    "    if string[i] not in ('a','e','i','o','u'):\n",
    "        ccount=ccount+1\n",
    "print(\"the total number of consonent is\",ccount)\n",
    "\n",
    "\n"
   ]
  },
  {
   "cell_type": "code",
   "execution_count": 24,
   "id": "e1607592",
   "metadata": {},
   "outputs": [
    {
     "name": "stdout",
     "output_type": "stream",
     "text": [
      "variable is grater than 30\n"
     ]
    }
   ],
   "source": [
    "var=40\n",
    "if(var>20 and var<=23):\n",
    "    print(\"variable is garter than 20\")\n",
    "elif(var>23 and var<=30):\n",
    "    print(\"variable is grater than 23\")\n",
    "elif(var>30 and var<=40):\n",
    "    print(\"variable is grater than 30\")\n",
    "else:\n",
    "    print(\"variable is less than 40\")"
   ]
  },
  {
   "cell_type": "code",
   "execution_count": 27,
   "id": "27add029",
   "metadata": {},
   "outputs": [
    {
     "name": "stdout",
     "output_type": "stream",
     "text": [
      "num1 is divisible by 4 and num2 is not divisible by 6\n"
     ]
    }
   ],
   "source": [
    "num1=40\n",
    "num2=28\n",
    "if(num1%4==0 and num2%6==0):\n",
    "    print(\"num1 is divisible by 4 and num2 is divisible 6\")\n",
    "elif(num1%4==0 and num2%6!=0):\n",
    "    print(\"num1 is divisible by 4 and num2 is not divisible by 6\")\n",
    "elif(num1%4!=0 and num2%6==0):\n",
    "    printf(\"num1 is not divisible by 4 and num2 is divisible by 6\")\n",
    "else:\n",
    "    print(\"condition not satisfy\")"
   ]
  },
  {
   "cell_type": "code",
   "execution_count": null,
   "id": "30dffaa6",
   "metadata": {},
   "outputs": [],
   "source": []
  }
 ],
 "metadata": {
  "kernelspec": {
   "display_name": "Python 3 (ipykernel)",
   "language": "python",
   "name": "python3"
  },
  "language_info": {
   "codemirror_mode": {
    "name": "ipython",
    "version": 3
   },
   "file_extension": ".py",
   "mimetype": "text/x-python",
   "name": "python",
   "nbconvert_exporter": "python",
   "pygments_lexer": "ipython3",
   "version": "3.10.11"
  }
 },
 "nbformat": 4,
 "nbformat_minor": 5
}
